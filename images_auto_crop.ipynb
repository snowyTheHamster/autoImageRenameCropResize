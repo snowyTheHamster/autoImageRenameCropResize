{
  "nbformat": 4,
  "nbformat_minor": 0,
  "metadata": {
    "colab": {
      "name": "images_auto_crop.ipynb",
      "provenance": [],
      "collapsed_sections": [],
      "authorship_tag": "ABX9TyNfz+cUpB6D0xxZUpqnpyY0",
      "include_colab_link": true
    },
    "kernelspec": {
      "name": "python3",
      "display_name": "Python 3"
    }
  },
  "cells": [
    {
      "cell_type": "markdown",
      "metadata": {
        "id": "view-in-github",
        "colab_type": "text"
      },
      "source": [
        "<a href=\"https://colab.research.google.com/github/snowyTheHamster/autoImageRenameCropResize/blob/master/images_auto_crop.ipynb\" target=\"_parent\"><img src=\"https://colab.research.google.com/assets/colab-badge.svg\" alt=\"Open In Colab\"/></a>"
      ]
    },
    {
      "cell_type": "markdown",
      "metadata": {
        "id": "NApbBO_jAM6E"
      },
      "source": [
        "### Open CV Auto Crop Images\r\n",
        "\r\n",
        "Detect the edges of an object with white background to crop images.\r\n",
        "\r\n",
        "---\r\n",
        "\r\n",
        "### How to use\r\n",
        "**Prepare folders**\r\n",
        "\r\n",
        "+ Create a project folder in Google Drive.\r\n",
        "+ Create a folder inside project folder with images you want to crop.\r\n",
        "+ Create another folder inside project folder to output results.\r\n",
        "\r\n",
        "**Adjust variables and settings in step 2**\r\n",
        "\r\n",
        "+ Make sure the names of the folders match what you created.\r\n",
        "+ Adjust MIN_VAL and MAX_VAL if needed. (max value is 255)\r\n",
        "+ Add extra margins to image if needed.\r\n",
        "\r\n",
        "**Run Code**\r\n",
        "\r\n",
        "+ Run each of the blocks in order 1 ~ 4.\r\n"
      ]
    },
    {
      "cell_type": "markdown",
      "metadata": {
        "id": "34cSY6z-4ByJ"
      },
      "source": [
        "### 1. Mount Google Drive"
      ]
    },
    {
      "cell_type": "code",
      "metadata": {
        "colab": {
          "base_uri": "https://localhost:8080/"
        },
        "id": "CrQGywbSsPE0",
        "outputId": "233e983e-3b72-4d0a-d358-d6a5b72d04c7"
      },
      "source": [
        "from google.colab import drive\r\n",
        "import os\r\n",
        "import cv2\r\n",
        "import numpy as np\r\n",
        "\r\n",
        "drive.mount('/content/drive/')"
      ],
      "execution_count": null,
      "outputs": [
        {
          "output_type": "stream",
          "text": [
            "Mounted at /content/drive/\n"
          ],
          "name": "stdout"
        }
      ]
    },
    {
      "cell_type": "markdown",
      "metadata": {
        "id": "F9GHrEAd3s0d"
      },
      "source": [
        "### 2. Adjust Settings Below"
      ]
    },
    {
      "cell_type": "code",
      "metadata": {
        "id": "nWT5inD9EsO6"
      },
      "source": [
        "# Make sure folder names match what you created in google drive\r\n",
        "project_folder = 'images_test'\r\n",
        "input_folder = 'images_original'\r\n",
        "output_folder = 'images_cropped'\r\n",
        "\r\n",
        "# define image files formats here\r\n",
        "image_exts = [ '.jpg', '.jpeg' ]\r\n",
        "\r\n",
        "# threshold for detecting white background, adjust if cropping is poor; otherwise prepare images with cleaner white background.\r\n",
        "MIN_VAL = 245 # default = 210\r\n",
        "MAX_VAL = 230 # default = 200\r\n",
        "\r\n",
        "# for adding additional margin on the edges.\r\n",
        "MTOP = 0 # default = 0\r\n",
        "MRIGHT = 0 # default = 0\r\n",
        "MBOTTOM = 0 # default = 0\r\n",
        "MLEFT = 0 # default = 0\r\n",
        "\r\n",
        "\r\n",
        "# dont need to change these\r\n",
        "work_dir = os.path.join('/content/drive/My Drive/', project_folder)\r\n",
        "dir_to_work = os.path.join(work_dir, input_folder)\r\n",
        "dir_imgs_results = os.path.join(work_dir, output_folder)"
      ],
      "execution_count": null,
      "outputs": []
    },
    {
      "cell_type": "markdown",
      "metadata": {
        "id": "LxT_059a4JAF"
      },
      "source": [
        "### 3. Run Script\r\n"
      ]
    },
    {
      "cell_type": "code",
      "metadata": {
        "id": "87FHJ0OKCo81",
        "colab": {
          "base_uri": "https://localhost:8080/"
        },
        "outputId": "02891bed-4b5b-4273-ac89-b2c97085bf52"
      },
      "source": [
        "count = 0\r\n",
        "for _, _, files in os.walk(dir_to_work):\r\n",
        "  file_count = len(files)\r\n",
        "  for filename in files:\r\n",
        "    count += 1\r\n",
        "    file_path = os.path.join(dir_to_work, filename)\r\n",
        "    file_name, file_ext = os.path.splitext(file_path)\r\n",
        "    output_file_name = os.path.basename(file_name) + file_ext\r\n",
        "\r\n",
        "    if file_ext not in image_exts:\r\n",
        "      print(\"skipping \" + filename + \" (not a supported image file format)\")\r\n",
        "      count -= 1\r\n",
        "      file_count -= 1\r\n",
        "      continue\r\n",
        "\r\n",
        "    else:\r\n",
        "      image = cv2.imread(dir_to_work + '/' + filename)\r\n",
        "      gray = cv2.cvtColor(image, cv2.COLOR_RGB2GRAY)\r\n",
        "\r\n",
        "      ret, thresh = cv2.threshold(gray, MIN_VAL, MAX_VAL, cv2.THRESH_BINARY_INV) # available options: THRESH_BINARY, THRESH_BINARY_INV, THRESH_TRUNC, THRESH_TOZERO, THRESH_TOZERO_INV\r\n",
        "      kernel = cv2.getStructuringElement(cv2.MORPH_RECT, (9, 9)) # available options: MORPH_RECT, MORPH_ELLIPSE; Also tweak last parameter(x, x)\r\n",
        "      morphchoice = cv2.morphologyEx(thresh, cv2.MORPH_DILATE, kernel) # available options: MORPH_CLOSE, MORPH_OPEN, MORPH_DILATE, MORPH_ERODE\r\n",
        "\r\n",
        "      # finding contours\r\n",
        "      (cnts, _) = cv2.findContours(morphchoice.copy(), cv2.RETR_EXTERNAL, cv2.CHAIN_APPROX_SIMPLE)\r\n",
        "\r\n",
        "      # finding the biggest coutour\r\n",
        "      c = max(cnts, key = cv2.contourArea)\r\n",
        "\r\n",
        "      #place c back in a list\r\n",
        "      list_c = [ np.array( c ) ]\r\n",
        "\r\n",
        "      # Make a rectangle from the largest coutour\r\n",
        "      x, y, w, h = cv2.boundingRect(c)\r\n",
        "      # Set margins for the Rectangle to prevent clipping of product\r\n",
        "      x = x - MLEFT\r\n",
        "      y = y - MTOP\r\n",
        "      w = w + MLEFT + MRIGHT\r\n",
        "      h = h + MTOP + MBOTTOM\r\n",
        "\r\n",
        "      # draw the biggest contour (c) in white(255) with 1px border\r\n",
        "      image = cv2.rectangle(image, (x, y), (x + w, y + h), (255, 255, 255), 1)\r\n",
        "\r\n",
        "      # Select Images to apply changes to\r\n",
        "      original_image = cv2.imread(dir_to_work +'/'+ filename)\r\n",
        "\r\n",
        "      # crop the image\r\n",
        "      cropped_image = original_image[y: y + h, x: x + w]\r\n",
        "\r\n",
        "      # Save image to output dir\r\n",
        "      cv2.imwrite(dir_imgs_results +'/'+ output_file_name, cropped_image)\r\n",
        "\r\n",
        "      print(f'{count}/{file_count} Cropping {filename}... done.')\r\n"
      ],
      "execution_count": null,
      "outputs": [
        {
          "output_type": "stream",
          "text": [
            "1/15 Cropping J1GA213681_1.jpg... done.\n",
            "2/15 Cropping J1GA213681_4.jpg... done.\n",
            "3/15 Cropping J1GA213681_5.jpg... done.\n",
            "4/15 Cropping J1GA213702_3.jpg... done.\n",
            "5/15 Cropping J1GA213702_4.jpg... done.\n",
            "6/15 Cropping J1GA213702_5.jpg... done.\n",
            "7/15 Cropping J1GA213762_3.jpg... done.\n",
            "8/15 Cropping J1GA213762_4.jpg... done.\n",
            "9/15 Cropping J1GA213762_5.jpg... done.\n",
            "10/15 Cropping J1GA213681_3.jpg... done.\n",
            "11/15 Cropping J1GA213681_2.jpg... done.\n",
            "12/15 Cropping J1GA213702_1.jpg... done.\n",
            "13/15 Cropping J1GA213702_2.jpg... done.\n",
            "14/15 Cropping J1GA213762_1.jpg... done.\n",
            "15/15 Cropping J1GA213762_2.jpg... done.\n"
          ],
          "name": "stdout"
        }
      ]
    },
    {
      "cell_type": "markdown",
      "metadata": {
        "id": "42aJpl5B4NOm"
      },
      "source": [
        "### 4. Unmount Google Drive"
      ]
    },
    {
      "cell_type": "code",
      "metadata": {
        "colab": {
          "base_uri": "https://localhost:8080/"
        },
        "id": "ldxjERHfClkA",
        "outputId": "fdd41e24-189e-4210-eba3-04426b904561"
      },
      "source": [
        "drive.flush_and_unmount()\r\n",
        "print('All changes made in this colab session should now be visible in Drive.')"
      ],
      "execution_count": null,
      "outputs": [
        {
          "output_type": "stream",
          "text": [
            "All changes made in this colab session should now be visible in Drive.\n"
          ],
          "name": "stdout"
        }
      ]
    }
  ]
}