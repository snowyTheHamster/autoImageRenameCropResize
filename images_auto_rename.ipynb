{
  "nbformat": 4,
  "nbformat_minor": 0,
  "metadata": {
    "colab": {
      "name": "images_auto_rename.ipynb",
      "provenance": [],
      "collapsed_sections": [],
      "authorship_tag": "ABX9TyPCHHhq93go8jnRPLgA931l",
      "include_colab_link": true
    },
    "kernelspec": {
      "name": "python3",
      "display_name": "Python 3"
    }
  },
  "cells": [
    {
      "cell_type": "markdown",
      "metadata": {
        "id": "view-in-github",
        "colab_type": "text"
      },
      "source": [
        "<a href=\"https://colab.research.google.com/github/snowyTheHamster/autoImageRenameCropResize/blob/master/images_auto_rename.ipynb\" target=\"_parent\"><img src=\"https://colab.research.google.com/assets/colab-badge.svg\" alt=\"Open In Colab\"/></a>"
      ]
    },
    {
      "cell_type": "markdown",
      "metadata": {
        "id": "e_ympauy7dij"
      },
      "source": [
        "### Bulk Rename Images\r\n",
        "\r\n",
        "Bulk Rename images in a folder from a list in a csv.\r\n",
        "\r\n",
        "---\r\n",
        "\r\n",
        "### How to use\r\n",
        "**Prepare folders**\r\n",
        "\r\n",
        "+ Create a project folder in Google Drive.\r\n",
        "+ Create a folder inside project folder with images you want to rename.\r\n",
        "+ Create another folder inside project folder to output results.\r\n",
        "\r\n",
        "**Prepare csv file**\r\n",
        "+ Prepare a csv file with list of desired filenames in project_folder.\r\n",
        "+ csv file should have one filename per row.\r\n",
        "+ csv file should use first column only.\r\n",
        "\r\n",
        "**Adjust variables and settings in step 2**\r\n",
        "\r\n",
        "+ Insert filename of csv in form, e.g: mylist.csv\r\n",
        "+ Set no. of angles per image.\r\n",
        "\r\n",
        "**Run Code**\r\n",
        "\r\n",
        "+ Run each of the blocks in order 1 ~ 4."
      ]
    },
    {
      "cell_type": "code",
      "metadata": {
        "colab": {
          "base_uri": "https://localhost:8080/"
        },
        "id": "KdF4Ai7y8LXA",
        "outputId": "b47ca816-499f-4fce-f147-7ad8054256ef"
      },
      "source": [
        "from google.colab import drive\r\n",
        "import os\r\n",
        "import shutil\r\n",
        "import csv\r\n",
        "\r\n",
        "drive.mount('/content/drive/')"
      ],
      "execution_count": 41,
      "outputs": [
        {
          "output_type": "stream",
          "text": [
            "Mounted at /content/drive/\n"
          ],
          "name": "stdout"
        }
      ]
    },
    {
      "cell_type": "markdown",
      "metadata": {
        "id": "isroKtWo56eb"
      },
      "source": [
        "### 2. Adjust Settings Below"
      ]
    },
    {
      "cell_type": "code",
      "metadata": {
        "id": "3UC3qbXo97hQ"
      },
      "source": [
        "# Make sure folder names match what you created in google drive\r\n",
        "project_folder = 'images_test'\r\n",
        "input_folder = 'images_main'\r\n",
        "output_folder = 'images_renamed'\r\n",
        "\r\n",
        "# csv file and no. of angles per image\r\n",
        "csvfile = 'myfile.csv'\r\n",
        "no_of_angles = 5\r\n",
        "\r\n",
        "# dont need to change these\r\n",
        "work_dir = os.path.join('/content/drive/My Drive/', project_folder)\r\n",
        "dir_to_work = os.path.join(work_dir, input_folder)\r\n",
        "dir_imgs_results = os.path.join(work_dir, output_folder)\r\n",
        "full_csv_path = os.path.join(work_dir, csvfile)\r\n",
        "TMP_DIR = os.path.join(dir_imgs_results, 'temp_dir')"
      ],
      "execution_count": 42,
      "outputs": []
    },
    {
      "cell_type": "markdown",
      "metadata": {
        "id": "mDJ9U7EU_XZ9"
      },
      "source": [
        "### 3. Run Script"
      ]
    },
    {
      "cell_type": "code",
      "metadata": {
        "colab": {
          "base_uri": "https://localhost:8080/"
        },
        "id": "xo3vSUG5_ZrF",
        "outputId": "3daec015-630f-4f99-ba0a-53cc8cefc38c"
      },
      "source": [
        "# try creating temporary folder\r\n",
        "try:\r\n",
        "    os.mkdir(TMP_DIR)\r\n",
        "except:\r\n",
        "    print('directory already exists')\r\n",
        "\r\n",
        "\r\n",
        "# copy files from input dir to temp folder to work from in case we screw things up\r\n",
        "for _, _, files in os.walk(dir_to_work):\r\n",
        "  for filename in files:\r\n",
        "    file_path = os.path.join(dir_to_work, filename)\r\n",
        "    temp_file_path = os.path.join(TMP_DIR, filename)\r\n",
        "    shutil.copy2(file_path, temp_file_path)\r\n",
        "\r\n",
        "\r\n",
        "count = 0\r\n",
        "for _, _, files in os.walk(TMP_DIR):\r\n",
        "  f = open(full_csv_path)\r\n",
        "  csv_f = csv.reader(f)\r\n",
        "\r\n",
        "  file_count = len(files)\r\n",
        "  for filename in files:\r\n",
        "    temp_file_path = os.path.join(TMP_DIR, filename)\r\n",
        "    file_name, file_ext = os.path.splitext(temp_file_path)\r\n",
        "\r\n",
        "    for row in csv_f: # per each row in csv file\r\n",
        "      for y in range(no_of_angles): # repeat below loop x number of times per csv row\r\n",
        "        y = y + 1\r\n",
        "\r\n",
        "        new_file = f'{row[0]}_{y}{file_ext}' # create desired filename from csv\r\n",
        "\r\n",
        "        the_files = sorted(os.listdir(TMP_DIR)) # gets list of files in a directory (add sorted or it won't work on some workstations)\r\n",
        "        file_old_path = os.path.join(TMP_DIR, the_files[0]) # set fullpath of first file in directory\r\n",
        "        file_new_path = os.path.join(dir_imgs_results, new_file) # set fullpath of file in target directory\r\n",
        "        shutil.move(file_old_path, file_new_path) # moves renamed file to target directory\r\n",
        "\r\n",
        "        count += 1\r\n",
        "        print(f'{count}/{file_count} rename {file_old_path}, move to {file_new_path}.. done.')\r\n",
        "\r\n",
        "\r\n",
        "# delete temp folder\r\n",
        "try:\r\n",
        "    shutil.rmtree(TMP_DIR, ignore_errors=True)\r\n",
        "except:\r\n",
        "    print(f'failed to delete temp folder')\r\n",
        "\r\n"
      ],
      "execution_count": 43,
      "outputs": [
        {
          "output_type": "stream",
          "text": [
            "1/15 rename /content/drive/My Drive/images_test/images_renamed/temp_dir/01.jpg, move to /content/drive/My Drive/images_test/images_renamed/﻿J1GC121299_1.jpg.. done.\n",
            "2/15 rename /content/drive/My Drive/images_test/images_renamed/temp_dir/02.jpg, move to /content/drive/My Drive/images_test/images_renamed/﻿J1GC121299_2.jpg.. done.\n",
            "3/15 rename /content/drive/My Drive/images_test/images_renamed/temp_dir/03.jpg, move to /content/drive/My Drive/images_test/images_renamed/﻿J1GC121299_3.jpg.. done.\n",
            "4/15 rename /content/drive/My Drive/images_test/images_renamed/temp_dir/04.jpg, move to /content/drive/My Drive/images_test/images_renamed/﻿J1GC121299_4.jpg.. done.\n",
            "5/15 rename /content/drive/My Drive/images_test/images_renamed/temp_dir/05.jpg, move to /content/drive/My Drive/images_test/images_renamed/﻿J1GC121299_5.jpg.. done.\n",
            "6/15 rename /content/drive/My Drive/images_test/images_renamed/temp_dir/06.jpg, move to /content/drive/My Drive/images_test/images_renamed/K2GG282801_1.jpg.. done.\n",
            "7/15 rename /content/drive/My Drive/images_test/images_renamed/temp_dir/07.jpg, move to /content/drive/My Drive/images_test/images_renamed/K2GG282801_2.jpg.. done.\n",
            "8/15 rename /content/drive/My Drive/images_test/images_renamed/temp_dir/08.jpg, move to /content/drive/My Drive/images_test/images_renamed/K2GG282801_3.jpg.. done.\n",
            "9/15 rename /content/drive/My Drive/images_test/images_renamed/temp_dir/09.jpg, move to /content/drive/My Drive/images_test/images_renamed/K2GG282801_4.jpg.. done.\n",
            "10/15 rename /content/drive/My Drive/images_test/images_renamed/temp_dir/10.jpg, move to /content/drive/My Drive/images_test/images_renamed/K2GG282801_5.jpg.. done.\n",
            "11/15 rename /content/drive/My Drive/images_test/images_renamed/temp_dir/11.jpg, move to /content/drive/My Drive/images_test/images_renamed/V1BB239901_1.jpg.. done.\n",
            "12/15 rename /content/drive/My Drive/images_test/images_renamed/temp_dir/12.jpg, move to /content/drive/My Drive/images_test/images_renamed/V1BB239901_2.jpg.. done.\n",
            "13/15 rename /content/drive/My Drive/images_test/images_renamed/temp_dir/13.jpg, move to /content/drive/My Drive/images_test/images_renamed/V1BB239901_3.jpg.. done.\n",
            "14/15 rename /content/drive/My Drive/images_test/images_renamed/temp_dir/14.jpg, move to /content/drive/My Drive/images_test/images_renamed/V1BB239901_4.jpg.. done.\n",
            "15/15 rename /content/drive/My Drive/images_test/images_renamed/temp_dir/15.jpg, move to /content/drive/My Drive/images_test/images_renamed/V1BB239901_5.jpg.. done.\n"
          ],
          "name": "stdout"
        }
      ]
    },
    {
      "cell_type": "markdown",
      "metadata": {
        "id": "4vfnTAs0B1k2"
      },
      "source": [
        "### 4. Unmount Google Drive"
      ]
    },
    {
      "cell_type": "code",
      "metadata": {
        "colab": {
          "base_uri": "https://localhost:8080/"
        },
        "id": "BfgXYyZuB21m",
        "outputId": "05250190-05f5-4ab0-8bf6-ba5448c464d8"
      },
      "source": [
        "drive.flush_and_unmount()\r\n",
        "print('All changes made in this colab session should now be visible in Drive.')"
      ],
      "execution_count": 44,
      "outputs": [
        {
          "output_type": "stream",
          "text": [
            "All changes made in this colab session should now be visible in Drive.\n"
          ],
          "name": "stdout"
        }
      ]
    }
  ]
}