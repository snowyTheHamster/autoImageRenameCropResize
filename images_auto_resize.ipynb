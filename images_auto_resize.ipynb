{
  "nbformat": 4,
  "nbformat_minor": 0,
  "metadata": {
    "colab": {
      "name": "images_auto_resize.ipynb",
      "provenance": [],
      "collapsed_sections": [],
      "authorship_tag": "ABX9TyNUpXEmx2gE72/+TP4g8hpy",
      "include_colab_link": true
    },
    "kernelspec": {
      "name": "python3",
      "display_name": "Python 3"
    }
  },
  "cells": [
    {
      "cell_type": "markdown",
      "metadata": {
        "id": "view-in-github",
        "colab_type": "text"
      },
      "source": [
        "<a href=\"https://colab.research.google.com/github/snowyTheHamster/autoImageRenameCropResize/blob/master/images_auto_resize.ipynb\" target=\"_parent\"><img src=\"https://colab.research.google.com/assets/colab-badge.svg\" alt=\"Open In Colab\"/></a>"
      ]
    },
    {
      "cell_type": "markdown",
      "metadata": {
        "id": "N6f8GR__nf0M"
      },
      "source": [
        "### PIL Auto Resize Images\r\n",
        "\r\n",
        "Bulk Resize images in a folder.\r\n",
        "\r\n",
        "---\r\n",
        "\r\n",
        "### How to use\r\n",
        "**Prepare folders**\r\n",
        "\r\n",
        "+ Create a project folder in Google Drive.\r\n",
        "+ Create a folder inside project folder with images you want to resize.\r\n",
        "+ Create another folder inside project folder to output results.\r\n",
        "\r\n",
        "**Adjust variables and settings in step 2**\r\n",
        "\r\n",
        "+ Make sure the names of the folders match what you created.\r\n",
        "+ Adjust WIDTH and HEIGHT (px) of desired output image.\r\n",
        "+ Add extra PADDINGS to image if needed.\r\n",
        "\r\n",
        "**Run Code**\r\n",
        "\r\n",
        "+ Run each of the blocks in order 1 ~ 4."
      ]
    },
    {
      "cell_type": "markdown",
      "metadata": {
        "id": "DwCXuDVelJcc"
      },
      "source": [
        "### 1. Mount Google Drive"
      ]
    },
    {
      "cell_type": "code",
      "metadata": {
        "colab": {
          "base_uri": "https://localhost:8080/"
        },
        "id": "KqitRKlGlLko",
        "outputId": "9db0502c-9dc8-42f3-fa95-203294fefb2b"
      },
      "source": [
        "from google.colab import drive\r\n",
        "import os\r\n",
        "from PIL import Image\r\n",
        "import numpy as np\r\n",
        "\r\n",
        "drive.mount('/content/drive/')"
      ],
      "execution_count": 1,
      "outputs": [
        {
          "output_type": "stream",
          "text": [
            "Mounted at /content/drive/\n"
          ],
          "name": "stdout"
        }
      ]
    },
    {
      "cell_type": "markdown",
      "metadata": {
        "id": "tIJjVFnqlRkZ"
      },
      "source": [
        "### 2. Adjust Settings Below"
      ]
    },
    {
      "cell_type": "code",
      "metadata": {
        "id": "gWT6J9rwlSPW"
      },
      "source": [
        "# Make sure folder names match what you created in google drive\r\n",
        "project_folder = 'images_test'\r\n",
        "input_folder = 'images_cropped'\r\n",
        "output_folder = 'images_resized'\r\n",
        "\r\n",
        "# define image files formats here\r\n",
        "image_exts = [ '.jpg', '.jpeg' ]\r\n",
        "\r\n",
        "# Desired image output size\r\n",
        "WIDTH = 1000 # default value is 1000\r\n",
        "HEIGHT = 1000 # default value is 1000\r\n",
        "PADDING_SIDES = 40 # default value is 40, otherwise: 480\r\n",
        "PADDING_BOTTOM = 280 # default value is 280, otherwise: 60 \r\n",
        "\r\n",
        "\r\n",
        "# dont need to change these\r\n",
        "work_dir = os.path.join('/content/drive/My Drive/', project_folder)\r\n",
        "dir_to_resize = os.path.join(work_dir, input_folder)\r\n",
        "dir_imgs_resized = os.path.join(work_dir, output_folder)\r\n",
        "desired_size = (WIDTH - PADDING_SIDES, HEIGHT)"
      ],
      "execution_count": 2,
      "outputs": []
    },
    {
      "cell_type": "markdown",
      "metadata": {
        "id": "qZ1r8M5wlYmu"
      },
      "source": [
        "### 3. Run Script"
      ]
    },
    {
      "cell_type": "code",
      "metadata": {
        "colab": {
          "base_uri": "https://localhost:8080/"
        },
        "id": "3aqWyRB6nVj6",
        "outputId": "d877a1da-fa62-40ab-a28c-f8bfac7ef952"
      },
      "source": [
        "count = 0\r\n",
        "for _, _, files in os.walk(dir_to_resize):\r\n",
        "  file_count = len(files)\r\n",
        "  for filename in files:\r\n",
        "    count += 1\r\n",
        "    file_path = os.path.join(dir_to_resize, filename)\r\n",
        "    file_name, file_ext = os.path.splitext(file_path)\r\n",
        "    output_file_name = os.path.basename(file_name) + file_ext\r\n",
        "\r\n",
        "    if file_ext not in image_exts:\r\n",
        "      print(\"skipping \" + filename + \" (not a supported image file format)\")\r\n",
        "      count -= 1\r\n",
        "      file_count -= 1\r\n",
        "      continue\r\n",
        "\r\n",
        "    else:\r\n",
        "      i = Image.open(file_path)\r\n",
        "      old_size = i.size\r\n",
        "      ratio = min([float(desired_size[0])/old_size[0], float(desired_size[1])/old_size[1]])\r\n",
        "      new_size = tuple([int(x*ratio) for x in old_size])\r\n",
        "      im = i.resize(new_size, Image.ANTIALIAS)\r\n",
        "      new_im = Image.new('RGB', size = (WIDTH, HEIGHT), color = (255, 255, 255)) #generate bg image\r\n",
        "      new_im.paste(im, ((WIDTH - new_size[0]) // 2, HEIGHT - new_size[1] - PADDING_BOTTOM))\r\n",
        "\r\n",
        "      new_im.save(f'{dir_imgs_resized}/{output_file_name}')\r\n",
        "      print(f'{count}/{file_count} resizing {filename}... done.')"
      ],
      "execution_count": 3,
      "outputs": [
        {
          "output_type": "stream",
          "text": [
            "1/14 resizing J1GA213681_4.jpg... done.\n",
            "2/14 resizing J1GA213681_5.jpg... done.\n",
            "3/14 resizing J1GA213702_3.jpg... done.\n",
            "4/14 resizing J1GA213702_4.jpg... done.\n",
            "5/14 resizing J1GA213702_5.jpg... done.\n",
            "6/14 resizing J1GA213762_3.jpg... done.\n",
            "7/14 resizing J1GA213762_4.jpg... done.\n",
            "8/14 resizing J1GA213762_5.jpg... done.\n",
            "9/14 resizing J1GA213681_3.jpg... done.\n",
            "10/14 resizing J1GA213681_2.jpg... done.\n",
            "11/14 resizing J1GA213702_1.jpg... done.\n",
            "12/14 resizing J1GA213702_2.jpg... done.\n",
            "13/14 resizing J1GA213762_1.jpg... done.\n",
            "14/14 resizing J1GA213762_2.jpg... done.\n"
          ],
          "name": "stdout"
        }
      ]
    },
    {
      "cell_type": "markdown",
      "metadata": {
        "id": "hbbBtUESnbSe"
      },
      "source": [
        "### 4. Unmount Google Drive"
      ]
    },
    {
      "cell_type": "code",
      "metadata": {
        "colab": {
          "base_uri": "https://localhost:8080/"
        },
        "id": "BLmh-kaAncDM",
        "outputId": "d9167bdd-3055-4a1d-b8c6-885c9387acf1"
      },
      "source": [
        "drive.flush_and_unmount()\r\n",
        "print('All changes made in this colab session should now be visible in Drive.')"
      ],
      "execution_count": 4,
      "outputs": [
        {
          "output_type": "stream",
          "text": [
            "All changes made in this colab session should now be visible in Drive.\n"
          ],
          "name": "stdout"
        }
      ]
    }
  ]
}