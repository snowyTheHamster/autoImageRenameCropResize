{
  "nbformat": 4,
  "nbformat_minor": 0,
  "metadata": {
    "colab": {
      "name": "images_remove_bg.ipynb",
      "provenance": [],
      "collapsed_sections": [],
      "authorship_tag": "ABX9TyOaX949UJl24rSbiHRN0Pvq",
      "include_colab_link": true
    },
    "kernelspec": {
      "name": "python3",
      "display_name": "Python 3"
    }
  },
  "cells": [
    {
      "cell_type": "markdown",
      "metadata": {
        "id": "view-in-github",
        "colab_type": "text"
      },
      "source": [
        "<a href=\"https://colab.research.google.com/github/snowyTheHamster/autoImageRenameCropResize/blob/master/images_remove_bg.ipynb\" target=\"_parent\"><img src=\"https://colab.research.google.com/assets/colab-badge.svg\" alt=\"Open In Colab\"/></a>"
      ]
    },
    {
      "cell_type": "markdown",
      "metadata": {
        "id": "6aA1Qx770OJa"
      },
      "source": [
        "### Open CV Auto Crop Images\r\n",
        "\r\n",
        "Remove Background from Object in images (works on white background).\r\n",
        "\r\n",
        "---\r\n",
        "\r\n",
        "### How to use\r\n",
        "**Prepare folders**\r\n",
        "\r\n",
        "+ Create a project folder in Google Drive.\r\n",
        "+ Create a folder inside project folder with images you want to crop.\r\n",
        "+ Create another folder inside project folder to output results.\r\n",
        "\r\n",
        "**Adjust variables and settings in step 2**\r\n",
        "\r\n",
        "+ Default settings should work fine but you can adjust the parameters to finetune results.\r\n",
        "\r\n",
        "+ You can also change some options in step 2 for the kernel, threshold and morph choices.\r\n",
        "\r\n",
        "+ If you still can't get good results, prepare photos with cleaner white backgrounds with better distinction between object and background.\r\n",
        "\r\n",
        "+ If the object in white, the script may have trouble distinguishing it from background.\r\n",
        "\r\n",
        "+ If the object is black, the script may have trouble distinguishing it from the shadows.\r\n",
        "\r\n",
        "**Run Code**\r\n",
        "\r\n",
        "+ Run each of the blocks in order 1 ~ 4.\r\n"
      ]
    },
    {
      "cell_type": "markdown",
      "metadata": {
        "id": "04PNvazysftb"
      },
      "source": [
        "### 1. Mount Google Drive"
      ]
    },
    {
      "cell_type": "code",
      "metadata": {
        "colab": {
          "base_uri": "https://localhost:8080/"
        },
        "id": "0xnknxl2sfxz",
        "outputId": "71cdff9d-f43f-4f1e-c0e7-a8c793a2b8d4"
      },
      "source": [
        "from google.colab import drive\r\n",
        "import os\r\n",
        "import cv2\r\n",
        "import numpy as np\r\n",
        "\r\n",
        "drive.mount('/content/drive/')"
      ],
      "execution_count": 1,
      "outputs": [
        {
          "output_type": "stream",
          "text": [
            "Mounted at /content/drive/\n"
          ],
          "name": "stdout"
        }
      ]
    },
    {
      "cell_type": "markdown",
      "metadata": {
        "id": "yOqGncH5slYQ"
      },
      "source": [
        "### 2. Adjust Settings Below"
      ]
    },
    {
      "cell_type": "code",
      "metadata": {
        "id": "Hw2qfpgxslb-"
      },
      "source": [
        "# Make sure folder names match what you created in google drive\r\n",
        "project_folder = 'images_test'\r\n",
        "input_folder = 'images_start'\r\n",
        "output_folder = 'images_bg_removed'\r\n",
        "\r\n",
        "# define image file formats here\r\n",
        "image_exts = [ '.jpg', '.jpeg' ]\r\n",
        "\r\n",
        "# Threshold Values\r\n",
        "MIN_VALUE = 200  # default: 200\r\n",
        "MAX_VALUE = 10   # default: 10\r\n",
        "MASK_VALUE = 255 # default: 255\r\n",
        "\r\n",
        "# Background Fill Value\r\n",
        "FILL_1 = 255 # default: 255\r\n",
        "FILL_2 = 255 # default: 255\r\n",
        "FILL_3 = 255 # default: 255\r\n",
        "\r\n",
        "# 1st iteration parameters\r\n",
        "## bilateralFilter values\r\n",
        "a_bf0 = 6   # default: 6\r\n",
        "a_bf1 = 231 # default: 231\r\n",
        "a_bf2 = 231 # default: 231\r\n",
        "\r\n",
        "## Canny blurred values\r\n",
        "a_cb0 = 2\r\n",
        "a_cb1 = 6\r\n",
        "\r\n",
        "## getStructuringElement values\r\n",
        "a_se0 = 77\r\n",
        "a_se1 = 77\r\n",
        "\r\n",
        "# 2nd iteration parameters\r\n",
        "## bilateralFilter values\r\n",
        "b_bf0 = 6   # default: 6\r\n",
        "b_bf1 = 131 # default: 131\r\n",
        "b_bf2 = 131 # default: 131\r\n",
        "\r\n",
        "## getStructuringElement values\r\n",
        "b_se0 = 9\r\n",
        "b_se1 = 9\r\n",
        "\r\n",
        "\r\n",
        "# dont need to change these\r\n",
        "work_dir = os.path.join('/content/drive/My Drive/', project_folder)\r\n",
        "dir_to_work = os.path.join(work_dir, input_folder)\r\n",
        "dir_imgs_results = os.path.join(work_dir, output_folder)\r\n",
        "FILL_COLOR = [FILL_1, FILL_2, FILL_3]"
      ],
      "execution_count": 2,
      "outputs": []
    },
    {
      "cell_type": "markdown",
      "metadata": {
        "id": "9E9Qqoxuslh0"
      },
      "source": [
        "### 3. Run Script"
      ]
    },
    {
      "cell_type": "code",
      "metadata": {
        "colab": {
          "base_uri": "https://localhost:8080/"
        },
        "id": "GKOJY8fgsll6",
        "outputId": "0b0e1557-8ad7-4dde-9f6d-fdde9bbaf123"
      },
      "source": [
        "count = 0\r\n",
        "for _, _, files in os.walk(dir_to_work):\r\n",
        "  file_count = len(files)\r\n",
        "  for filename in files:\r\n",
        "    count += 1\r\n",
        "    file_path = os.path.join(dir_to_work, filename)\r\n",
        "    file_name, file_ext = os.path.splitext(file_path)\r\n",
        "    output_file_name = os.path.basename(file_name) + file_ext\r\n",
        "\r\n",
        "    if file_ext not in image_exts:\r\n",
        "      print(\"skipping \" + filename + \" (not a supported image file format)\")\r\n",
        "      count -= 1\r\n",
        "      file_count -= 1\r\n",
        "      continue\r\n",
        "\r\n",
        "    else:\r\n",
        "      print(f'{count}/{file_count} Removing BG from {filename}...')\r\n",
        "\r\n",
        "      # FIRST ITERATION OF THE IMAGE PROCESS\r\n",
        "      image = cv2.imread(file_path)\r\n",
        "      gray = cv2.cvtColor(image, cv2.COLOR_RGB2GRAY)\r\n",
        "      blurred = cv2.bilateralFilter(gray, a_bf0, a_bf1, a_bf2)\r\n",
        "\r\n",
        "      #PLAN B: Canny\r\n",
        "      thresh = cv2.Canny(blurred, a_cb0, a_cb1)\r\n",
        "\r\n",
        "      kernel = cv2.getStructuringElement(cv2.MORPH_RECT, (a_se0, a_se1)) # available options: MORPH_RECT, MORPH_ELLIPSE; Also tweak last parameter(x, x)\r\n",
        "      morphchoice = cv2.morphologyEx(thresh, cv2.MORPH_DILATE, kernel) # available options: MORPH_CLOSE, MORPH_OPEN, MORPH_DILATE, MORPH_ERODE\r\n",
        "      (cnts, _) = cv2.findContours(morphchoice.copy(), cv2.RETR_EXTERNAL, cv2.CHAIN_APPROX_SIMPLE) # finding_contours\r\n",
        "      \r\n",
        "      #find the biggest contour\r\n",
        "      c = max(cnts, key = cv2.contourArea)\r\n",
        "      \r\n",
        "      #place c back in a list\r\n",
        "      list_c = [ np.array( c ) ]\r\n",
        "\r\n",
        "      #FILL OUTSIDE OF COUTOUR WITH COLOR\r\n",
        "      stencil = np.zeros(image.shape[:-1]).astype(np.uint8)\r\n",
        "      cv2.fillPoly(stencil, list_c, MASK_VALUE)\r\n",
        "      sel = stencil != MASK_VALUE # select everything that is not MASK_VALUE\r\n",
        "      image[sel] = FILL_COLOR # and fill it with FILL_COLOR\r\n",
        "\r\n",
        "      ###\r\n",
        "      # SECOND ITERATION OF THE IMAGE PROCESS\r\n",
        "      image2 = image\r\n",
        "      gray = cv2.cvtColor(image2, cv2.COLOR_RGB2GRAY)\r\n",
        "      blurred = cv2.bilateralFilter(gray, b_bf0, b_bf1, b_bf2)\r\n",
        "\r\n",
        "      #PLAN A: threshold\r\n",
        "      ret, thresh = cv2.threshold(blurred, MIN_VALUE, MAX_VALUE, cv2.THRESH_BINARY_INV) # options: THRESH_BINARY, THRESH_BINARY_INV, THRESH_TRUNC, THRESH_TOZERO, THRESH_TOZERO_INV\r\n",
        "\r\n",
        "      kernel = cv2.getStructuringElement(cv2.MORPH_RECT, (b_se0, b_se1)) # options: MORPH_RECT, MORPH_ELLIPSE; Also tweak last parameter(x, x)\r\n",
        "      morphchoice = cv2.morphologyEx(thresh, cv2.MORPH_DILATE, kernel) # options: MORPH_CLOSE, MORPH_OPEN, MORPH_DILATE, MORPH_ERODE\r\n",
        "      (cnts, _) = cv2.findContours(morphchoice.copy(), cv2.RETR_EXTERNAL, cv2.CHAIN_APPROX_SIMPLE) # finding_contours\r\n",
        "\r\n",
        "      #find the biggest contour\r\n",
        "      c = max(cnts, key = cv2.contourArea)\r\n",
        "      \r\n",
        "      #place c back in a list\r\n",
        "      list_c = [ np.array( c ) ]\r\n",
        "\r\n",
        "      #FILL OUTSIDE OF COUTOUR WITH COLOR\r\n",
        "      stencil = np.zeros(image2.shape[:-1]).astype(np.uint8)\r\n",
        "      cv2.fillPoly(stencil, list_c, MASK_VALUE)\r\n",
        "      sel = stencil != MASK_VALUE # select everything that is not MASK_VALUE\r\n",
        "      image2[sel] = FILL_COLOR # and fill it with FILL_COLOR\r\n",
        "\r\n",
        "      # Save image to output dir\r\n",
        "      cv2.imwrite(dir_imgs_results +'/'+ output_file_name, image2)\r\n",
        "\r\n",
        "  print('Finished removing background for all images in folder.')"
      ],
      "execution_count": 3,
      "outputs": [
        {
          "output_type": "stream",
          "text": [
            "1/5 Removing BG from 81GA180035_1.jpg...\n",
            "2/5 Removing BG from 81GA180035_2.jpg...\n",
            "3/5 Removing BG from 81GA180035_3.jpg...\n",
            "4/5 Removing BG from 81GA180035_4.jpg...\n",
            "5/5 Removing BG from 81GA180035_5.jpg...\n",
            "done.\n"
          ],
          "name": "stdout"
        }
      ]
    },
    {
      "cell_type": "markdown",
      "metadata": {
        "id": "a3X_wfCWslsk"
      },
      "source": [
        "### 4. Unmount Google Drive"
      ]
    },
    {
      "cell_type": "code",
      "metadata": {
        "colab": {
          "base_uri": "https://localhost:8080/"
        },
        "id": "i5i_gwwYslxE",
        "outputId": "0ea21148-b2d6-4054-db02-9bca20d75817"
      },
      "source": [
        "drive.flush_and_unmount()\r\n",
        "print('All changes made in this colab session should now be visible in Drive.')"
      ],
      "execution_count": 4,
      "outputs": [
        {
          "output_type": "stream",
          "text": [
            "All changes made in this colab session should now be visible in Drive.\n"
          ],
          "name": "stdout"
        }
      ]
    }
  ]
}